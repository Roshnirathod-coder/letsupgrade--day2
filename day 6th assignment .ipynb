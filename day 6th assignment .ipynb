{
 "cells": [
  {
   "cell_type": "markdown",
   "metadata": {},
   "source": [
    "for this challege create a bank ccount that has two attributes\n",
    "ownername \n",
    "balance\n",
    "and two methods\n",
    "deposit\n",
    "withdraw\n",
    "as an coded requirement, withdrawals may not exceed the available balance.\n",
    "instantiate your class, make several deposite and withdrawals, and test to make sure the account cant be overdrawn."
   ]
  },
  {
   "cell_type": "code",
   "execution_count": 3,
   "metadata": {},
   "outputs": [
    {
     "name": "stdout",
     "output_type": "stream",
     "text": [
      "Account owner: Jose\n",
      "Account balance: $1000\n",
      "Deposit Accepted, your balance is 1500\n",
      "Withdrawal Accepted, your balance is 750\n",
      "Funds Unavailable!\n"
     ]
    }
   ],
   "source": [
    "class Account:\n",
    "    \n",
    "    def __init__(self, owner, balance):\n",
    "        self.owner = owner\n",
    "        self.balance = balance\n",
    "    \n",
    "    def __str__(self):\n",
    "        return 'Account owner: {owner}\\nAccount balance: ${balance}'.format(owner=self.owner, balance=self.balance)\n",
    "        \n",
    "    def deposit(self, dp_money):\n",
    "        self.balance += dp_money\n",
    "        print('Deposit Accepted, your balance is {balance}'.format(balance=self.balance))\n",
    "    \n",
    "    def withdraw(self, wd_money):\n",
    "        if wd_money > self.balance:\n",
    "            print('Funds Unavailable!')\n",
    "        else:\n",
    "            self.balance -= wd_money\n",
    "            print('Withdrawal Accepted, your balance is {balance}'.format(balance=self.balance))\n",
    "            \n",
    "acct1 = Account('Jose',1000)\n",
    "print(acct1)\n",
    "acct1.deposit(500)\n",
    "acct1.withdraw(750)\n",
    "acct1.withdraw(1200)"
   ]
  },
  {
   "cell_type": "markdown",
   "metadata": {},
   "source": [
    "que 2 \n",
    "for this challenge create a cone class that has two attributes: R=Radius h=Height and two methods: volume = π * r2 = (h/3) surface area:base:πr2, side : πr*√(r2+h2) make only one class with function as in where required import math."
   ]
  },
  {
   "cell_type": "code",
   "execution_count": 4,
   "metadata": {},
   "outputs": [
    {
     "name": "stdout",
     "output_type": "stream",
     "text": [
      "Radius of cylinder: 24\n",
      "Height of cylinder: 36\n",
      "Volume is:  65170.28571428571\n",
      "Surface Area is:  9051.428571428572\n"
     ]
    }
   ],
   "source": [
    "pi=22/7\n",
    "radian = float(input('Radius of cylinder: '))\n",
    "height = float(input('Height of cylinder: '))\n",
    "\n",
    "volume = pi * radian * radian * height\n",
    "sur_area = ((2*pi*radian) * height) + ((pi*radian**2)*2)\n",
    "print(\"Volume is: \", volume)\n",
    "print(\"Surface Area is: \", sur_area)"
   ]
  },
  {
   "cell_type": "code",
   "execution_count": null,
   "metadata": {},
   "outputs": [],
   "source": []
  }
 ],
 "metadata": {
  "kernelspec": {
   "display_name": "Python 3",
   "language": "python",
   "name": "python3"
  },
  "language_info": {
   "codemirror_mode": {
    "name": "ipython",
    "version": 3
   },
   "file_extension": ".py",
   "mimetype": "text/x-python",
   "name": "python",
   "nbconvert_exporter": "python",
   "pygments_lexer": "ipython3",
   "version": "3.8.3"
  }
 },
 "nbformat": 4,
 "nbformat_minor": 4
}
