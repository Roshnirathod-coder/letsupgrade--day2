{
 "cells": [
  {
   "cell_type": "raw",
   "metadata": {},
   "source": [
    "Question 1"
   ]
  },
  {
   "cell_type": "raw",
   "metadata": {},
   "source": [
    "You all are Pilots, you want to land a plane safely, so altitude required for landing a plane is 1000ft\n",
    "it is less than tell pilot to land the plane, or it is more than that bit less than 5000ft ask \n",
    "the pilot to \"come down to 1000ft\", else it it more than 5000ft ask the pilot to \"go around and try later\""
   ]
  },
  {
   "cell_type": "code",
   "execution_count": 1,
   "metadata": {},
   "outputs": [
    {
     "name": "stdout",
     "output_type": "stream",
     "text": [
      "Tell pilot to land the plane\n"
     ]
    }
   ],
   "source": [
    "a = 1000\n",
    "b = 5000\n",
    "if(a<b):\n",
    "    print(\"Tell pilot to land the plane\")\n",
    "elif(a>b):\n",
    "    print(\"come down to 1000ft\")\n",
    "else:\n",
    "    print(\"go around and try later\")\n"
   ]
  },
  {
   "cell_type": "raw",
   "metadata": {},
   "source": [
    "Question 2 "
   ]
  },
  {
   "cell_type": "raw",
   "metadata": {},
   "source": [
    "Using for loop please print all the prime number between 1-200 using FOR loop and RANGE function "
   ]
  },
  {
   "cell_type": "raw",
   "metadata": {},
   "source": [
    "FOR LOOP"
   ]
  },
  {
   "cell_type": "code",
   "execution_count": 12,
   "metadata": {},
   "outputs": [
    {
     "name": "stdout",
     "output_type": "stream",
     "text": [
      "2 3 5 7 11 13 17 19 23 29 31 37 41 43 47 53 59 61 67 71 73 79 83 89 97 101 103 107 109 113 127 131 137 139 149 151 157 163 167 173 179 181 191 193 197 199 "
     ]
    }
   ],
   "source": [
    "for Number in range (1,201):\n",
    "    count = 0\n",
    "    for i in range(2, (Number//2 + 1)):\n",
    "        if(Number % i == 0):\n",
    "            count = count + 1\n",
    "            break\n",
    "        \n",
    "    if (count == 0 and Number != 1):\n",
    "        print(\"%d\" %Number, end = ' ')"
   ]
  },
  {
   "cell_type": "raw",
   "metadata": {},
   "source": [
    "while loop"
   ]
  },
  {
   "cell_type": "code",
   "execution_count": 14,
   "metadata": {},
   "outputs": [
    {
     "name": "stdout",
     "output_type": "stream",
     "text": [
      "2 3 5 7 11 13 17 19 23 29 31 37 41 43 47 53 59 61 67 71 73 79 83 89 97 101 103 107 109 113 127 131 137 139 149 151 157 163 167 173 179 181 191 193 197 199 "
     ]
    }
   ],
   "source": [
    "Number = 1\n",
    "\n",
    "while(Number <= 200):\n",
    "    count = 0\n",
    "    i = 2\n",
    "    \n",
    "    while(i<=Number//2):\n",
    "        if(Number % i == 0):\n",
    "            count = count + 1\n",
    "        i = i + 1\n",
    "        \n",
    "    if(count == 0 and Number != 1):\n",
    "        print(\"%d\" %Number, end = \" \")\n",
    "    Number = Number + 1"
   ]
  },
  {
   "cell_type": "code",
   "execution_count": null,
   "metadata": {},
   "outputs": [],
   "source": []
  }
 ],
 "metadata": {
  "kernelspec": {
   "display_name": "Python 3",
   "language": "python",
   "name": "python3"
  },
  "language_info": {
   "codemirror_mode": {
    "name": "ipython",
    "version": 3
   },
   "file_extension": ".py",
   "mimetype": "text/x-python",
   "name": "python",
   "nbconvert_exporter": "python",
   "pygments_lexer": "ipython3",
   "version": "3.8.3"
  }
 },
 "nbformat": 4,
 "nbformat_minor": 4
}
